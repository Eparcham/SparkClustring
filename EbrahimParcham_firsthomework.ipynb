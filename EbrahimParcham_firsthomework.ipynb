{
  "nbformat": 4,
  "nbformat_minor": 0,
  "metadata": {
    "colab": {
      "name": "EbrahimParcham_firsthomework.ipynb",
      "provenance": [],
      "collapsed_sections": [],
      "authorship_tag": "ABX9TyPCM+BgLuYyM0xhhGBurLkk",
      "include_colab_link": true
    },
    "kernelspec": {
      "name": "python3",
      "display_name": "Python 3"
    },
    "language_info": {
      "name": "python"
    }
  },
  "cells": [
    {
      "cell_type": "markdown",
      "metadata": {
        "id": "view-in-github",
        "colab_type": "text"
      },
      "source": [
        "<a href=\"https://colab.research.google.com/github/Eparcham/Spark_Clustring/blob/master/EbrahimParcham_firsthomework.ipynb\" target=\"_parent\"><img src=\"https://colab.research.google.com/assets/colab-badge.svg\" alt=\"Open In Colab\"/></a>"
      ]
    },
    {
      "cell_type": "markdown",
      "source": [
        "### Install spark"
      ],
      "metadata": {
        "id": "uYREkuwCi9M3"
      }
    },
    {
      "cell_type": "code",
      "execution_count": null,
      "metadata": {
        "colab": {
          "base_uri": "https://localhost:8080/"
        },
        "id": "IVoM8rCZZpj8",
        "outputId": "80208897-4972-4728-ecaf-2e97315d8873"
      },
      "outputs": [
        {
          "output_type": "stream",
          "name": "stdout",
          "text": [
            "Looking in indexes: https://pypi.org/simple, https://us-python.pkg.dev/colab-wheels/public/simple/\n",
            "Collecting pyspark\n",
            "  Downloading pyspark-3.3.0.tar.gz (281.3 MB)\n",
            "\u001b[K     |████████████████████████████████| 281.3 MB 38 kB/s \n",
            "\u001b[?25hCollecting py4j==0.10.9.5\n",
            "  Downloading py4j-0.10.9.5-py2.py3-none-any.whl (199 kB)\n",
            "\u001b[K     |████████████████████████████████| 199 kB 39.6 MB/s \n",
            "\u001b[?25hBuilding wheels for collected packages: pyspark\n",
            "  Building wheel for pyspark (setup.py) ... \u001b[?25l\u001b[?25hdone\n",
            "  Created wheel for pyspark: filename=pyspark-3.3.0-py2.py3-none-any.whl size=281764026 sha256=a1e63a2df3098dffcce55d09a9f56c43da719548ea0408b2d0190c4cf1700642\n",
            "  Stored in directory: /root/.cache/pip/wheels/7a/8e/1b/f73a52650d2e5f337708d9f6a1750d451a7349a867f928b885\n",
            "Successfully built pyspark\n",
            "Installing collected packages: py4j, pyspark\n",
            "Successfully installed py4j-0.10.9.5 pyspark-3.3.0\n",
            "Looking in indexes: https://pypi.org/simple, https://us-python.pkg.dev/colab-wheels/public/simple/\n",
            "Collecting liac-arff\n",
            "  Downloading liac-arff-2.5.0.tar.gz (13 kB)\n",
            "Building wheels for collected packages: liac-arff\n",
            "  Building wheel for liac-arff (setup.py) ... \u001b[?25l\u001b[?25hdone\n",
            "  Created wheel for liac-arff: filename=liac_arff-2.5.0-py3-none-any.whl size=11732 sha256=3928eca55591aa4d76cbe6bd2e6ddc6f4cf9d881e0390307b8d0b5a47d22e2c2\n",
            "  Stored in directory: /root/.cache/pip/wheels/1f/0f/15/332ca86cbebf25ddf98518caaf887945fbe1712b97a0f2493b\n",
            "Successfully built liac-arff\n",
            "Installing collected packages: liac-arff\n",
            "Successfully installed liac-arff-2.5.0\n"
          ]
        }
      ],
      "source": [
        "!pip install pyspark\n",
        "!pip install liac-arff"
      ]
    },
    {
      "cell_type": "markdown",
      "source": [
        "## Import Lib"
      ],
      "metadata": {
        "id": "2exNqHyWjCi1"
      }
    },
    {
      "cell_type": "code",
      "source": [
        "from pyspark.ml.clustering import KMeans\n",
        "from pyspark.ml.feature import Normalizer\n",
        "import pandas as pd\n",
        "from scipy.io.arff import loadarff \n",
        "import numpy as np\n",
        "from pyspark.ml.evaluation import ClusteringEvaluator\n",
        "from pyspark.context import SparkContext\n",
        "from pyspark.sql.session import SparkSession\n",
        "from datetime import datetime\n",
        "import matplotlib.dates as md\n",
        "sc = SparkContext('local')\n",
        "spark = SparkSession(sc)"
      ],
      "metadata": {
        "id": "Aw4niG0mEjU9"
      },
      "execution_count": null,
      "outputs": []
    },
    {
      "cell_type": "markdown",
      "source": [
        "## load dataset and spilt to (train,test) and train with 3 cluster and Evaluator clustring with RMSSTD and report center and distnace "
      ],
      "metadata": {
        "id": "EyaqaopAjHXJ"
      }
    },
    {
      "cell_type": "code",
      "source": [
        "!wget https://raw.githubusercontent.com/deric/clustering-benchmark/master/src/main/resources/datasets/real-world/wine.arff"
      ],
      "metadata": {
        "colab": {
          "base_uri": "https://localhost:8080/"
        },
        "id": "60cgsIslHhas",
        "outputId": "fe50cbd0-c9a7-40d4-dbf8-4b448684af6f"
      },
      "execution_count": null,
      "outputs": [
        {
          "output_type": "stream",
          "name": "stdout",
          "text": [
            "--2022-06-25 12:24:43--  https://raw.githubusercontent.com/deric/clustering-benchmark/master/src/main/resources/datasets/real-world/wine.arff\n",
            "Resolving raw.githubusercontent.com (raw.githubusercontent.com)... 185.199.108.133, 185.199.111.133, 185.199.110.133, ...\n",
            "Connecting to raw.githubusercontent.com (raw.githubusercontent.com)|185.199.108.133|:443... connected.\n",
            "HTTP request sent, awaiting response... 200 OK\n",
            "Length: 14528 (14K) [text/plain]\n",
            "Saving to: ‘wine.arff’\n",
            "\n",
            "\rwine.arff             0%[                    ]       0  --.-KB/s               \rwine.arff           100%[===================>]  14.19K  --.-KB/s    in 0s      \n",
            "\n",
            "2022-06-25 12:24:43 (61.0 MB/s) - ‘wine.arff’ saved [14528/14528]\n",
            "\n"
          ]
        }
      ]
    },
    {
      "cell_type": "code",
      "source": [
        "raw_data = loadarff('wine.arff')\n",
        "df = pd.DataFrame(raw_data[0])\n",
        "df.head()"
      ],
      "metadata": {
        "colab": {
          "base_uri": "https://localhost:8080/",
          "height": 206
        },
        "id": "0wZREDKUoYLd",
        "outputId": "52b2ddbc-c184-4dce-f16e-cdcfb2c5207d"
      },
      "execution_count": null,
      "outputs": [
        {
          "output_type": "execute_result",
          "data": {
            "text/plain": [
              "  class  Alcohol  Malic_acid   Ash  Alcalinity_of_ash  Magnesium  \\\n",
              "0  b'1'    14.23        1.71  2.43               15.6      127.0   \n",
              "1  b'1'    13.20        1.78  2.14               11.2      100.0   \n",
              "2  b'1'    13.16        2.36  2.67               18.6      101.0   \n",
              "3  b'1'    14.37        1.95  2.50               16.8      113.0   \n",
              "4  b'1'    13.24        2.59  2.87               21.0      118.0   \n",
              "\n",
              "   Total_phenols  Flavanoids  Nonflavanoid_phenols  Proanthocyanins  \\\n",
              "0           2.80        3.06                  0.28             2.29   \n",
              "1           2.65        2.76                  0.26             1.28   \n",
              "2           2.80        3.24                  0.30             2.81   \n",
              "3           3.85        3.49                  0.24             2.18   \n",
              "4           2.80        2.69                  0.39             1.82   \n",
              "\n",
              "   Color_intensity   Hue  OD280/OD315_of_diluted_wines  Proline  \n",
              "0             5.64  1.04                          3.92   1065.0  \n",
              "1             4.38  1.05                          3.40   1050.0  \n",
              "2             5.68  1.03                          3.17   1185.0  \n",
              "3             7.80  0.86                          3.45   1480.0  \n",
              "4             4.32  1.04                          2.93    735.0  "
            ],
            "text/html": [
              "\n",
              "  <div id=\"df-3434c6c9-ffa9-4358-b53d-8b2aa218a4bd\">\n",
              "    <div class=\"colab-df-container\">\n",
              "      <div>\n",
              "<style scoped>\n",
              "    .dataframe tbody tr th:only-of-type {\n",
              "        vertical-align: middle;\n",
              "    }\n",
              "\n",
              "    .dataframe tbody tr th {\n",
              "        vertical-align: top;\n",
              "    }\n",
              "\n",
              "    .dataframe thead th {\n",
              "        text-align: right;\n",
              "    }\n",
              "</style>\n",
              "<table border=\"1\" class=\"dataframe\">\n",
              "  <thead>\n",
              "    <tr style=\"text-align: right;\">\n",
              "      <th></th>\n",
              "      <th>class</th>\n",
              "      <th>Alcohol</th>\n",
              "      <th>Malic_acid</th>\n",
              "      <th>Ash</th>\n",
              "      <th>Alcalinity_of_ash</th>\n",
              "      <th>Magnesium</th>\n",
              "      <th>Total_phenols</th>\n",
              "      <th>Flavanoids</th>\n",
              "      <th>Nonflavanoid_phenols</th>\n",
              "      <th>Proanthocyanins</th>\n",
              "      <th>Color_intensity</th>\n",
              "      <th>Hue</th>\n",
              "      <th>OD280/OD315_of_diluted_wines</th>\n",
              "      <th>Proline</th>\n",
              "    </tr>\n",
              "  </thead>\n",
              "  <tbody>\n",
              "    <tr>\n",
              "      <th>0</th>\n",
              "      <td>b'1'</td>\n",
              "      <td>14.23</td>\n",
              "      <td>1.71</td>\n",
              "      <td>2.43</td>\n",
              "      <td>15.6</td>\n",
              "      <td>127.0</td>\n",
              "      <td>2.80</td>\n",
              "      <td>3.06</td>\n",
              "      <td>0.28</td>\n",
              "      <td>2.29</td>\n",
              "      <td>5.64</td>\n",
              "      <td>1.04</td>\n",
              "      <td>3.92</td>\n",
              "      <td>1065.0</td>\n",
              "    </tr>\n",
              "    <tr>\n",
              "      <th>1</th>\n",
              "      <td>b'1'</td>\n",
              "      <td>13.20</td>\n",
              "      <td>1.78</td>\n",
              "      <td>2.14</td>\n",
              "      <td>11.2</td>\n",
              "      <td>100.0</td>\n",
              "      <td>2.65</td>\n",
              "      <td>2.76</td>\n",
              "      <td>0.26</td>\n",
              "      <td>1.28</td>\n",
              "      <td>4.38</td>\n",
              "      <td>1.05</td>\n",
              "      <td>3.40</td>\n",
              "      <td>1050.0</td>\n",
              "    </tr>\n",
              "    <tr>\n",
              "      <th>2</th>\n",
              "      <td>b'1'</td>\n",
              "      <td>13.16</td>\n",
              "      <td>2.36</td>\n",
              "      <td>2.67</td>\n",
              "      <td>18.6</td>\n",
              "      <td>101.0</td>\n",
              "      <td>2.80</td>\n",
              "      <td>3.24</td>\n",
              "      <td>0.30</td>\n",
              "      <td>2.81</td>\n",
              "      <td>5.68</td>\n",
              "      <td>1.03</td>\n",
              "      <td>3.17</td>\n",
              "      <td>1185.0</td>\n",
              "    </tr>\n",
              "    <tr>\n",
              "      <th>3</th>\n",
              "      <td>b'1'</td>\n",
              "      <td>14.37</td>\n",
              "      <td>1.95</td>\n",
              "      <td>2.50</td>\n",
              "      <td>16.8</td>\n",
              "      <td>113.0</td>\n",
              "      <td>3.85</td>\n",
              "      <td>3.49</td>\n",
              "      <td>0.24</td>\n",
              "      <td>2.18</td>\n",
              "      <td>7.80</td>\n",
              "      <td>0.86</td>\n",
              "      <td>3.45</td>\n",
              "      <td>1480.0</td>\n",
              "    </tr>\n",
              "    <tr>\n",
              "      <th>4</th>\n",
              "      <td>b'1'</td>\n",
              "      <td>13.24</td>\n",
              "      <td>2.59</td>\n",
              "      <td>2.87</td>\n",
              "      <td>21.0</td>\n",
              "      <td>118.0</td>\n",
              "      <td>2.80</td>\n",
              "      <td>2.69</td>\n",
              "      <td>0.39</td>\n",
              "      <td>1.82</td>\n",
              "      <td>4.32</td>\n",
              "      <td>1.04</td>\n",
              "      <td>2.93</td>\n",
              "      <td>735.0</td>\n",
              "    </tr>\n",
              "  </tbody>\n",
              "</table>\n",
              "</div>\n",
              "      <button class=\"colab-df-convert\" onclick=\"convertToInteractive('df-3434c6c9-ffa9-4358-b53d-8b2aa218a4bd')\"\n",
              "              title=\"Convert this dataframe to an interactive table.\"\n",
              "              style=\"display:none;\">\n",
              "        \n",
              "  <svg xmlns=\"http://www.w3.org/2000/svg\" height=\"24px\"viewBox=\"0 0 24 24\"\n",
              "       width=\"24px\">\n",
              "    <path d=\"M0 0h24v24H0V0z\" fill=\"none\"/>\n",
              "    <path d=\"M18.56 5.44l.94 2.06.94-2.06 2.06-.94-2.06-.94-.94-2.06-.94 2.06-2.06.94zm-11 1L8.5 8.5l.94-2.06 2.06-.94-2.06-.94L8.5 2.5l-.94 2.06-2.06.94zm10 10l.94 2.06.94-2.06 2.06-.94-2.06-.94-.94-2.06-.94 2.06-2.06.94z\"/><path d=\"M17.41 7.96l-1.37-1.37c-.4-.4-.92-.59-1.43-.59-.52 0-1.04.2-1.43.59L10.3 9.45l-7.72 7.72c-.78.78-.78 2.05 0 2.83L4 21.41c.39.39.9.59 1.41.59.51 0 1.02-.2 1.41-.59l7.78-7.78 2.81-2.81c.8-.78.8-2.07 0-2.86zM5.41 20L4 18.59l7.72-7.72 1.47 1.35L5.41 20z\"/>\n",
              "  </svg>\n",
              "      </button>\n",
              "      \n",
              "  <style>\n",
              "    .colab-df-container {\n",
              "      display:flex;\n",
              "      flex-wrap:wrap;\n",
              "      gap: 12px;\n",
              "    }\n",
              "\n",
              "    .colab-df-convert {\n",
              "      background-color: #E8F0FE;\n",
              "      border: none;\n",
              "      border-radius: 50%;\n",
              "      cursor: pointer;\n",
              "      display: none;\n",
              "      fill: #1967D2;\n",
              "      height: 32px;\n",
              "      padding: 0 0 0 0;\n",
              "      width: 32px;\n",
              "    }\n",
              "\n",
              "    .colab-df-convert:hover {\n",
              "      background-color: #E2EBFA;\n",
              "      box-shadow: 0px 1px 2px rgba(60, 64, 67, 0.3), 0px 1px 3px 1px rgba(60, 64, 67, 0.15);\n",
              "      fill: #174EA6;\n",
              "    }\n",
              "\n",
              "    [theme=dark] .colab-df-convert {\n",
              "      background-color: #3B4455;\n",
              "      fill: #D2E3FC;\n",
              "    }\n",
              "\n",
              "    [theme=dark] .colab-df-convert:hover {\n",
              "      background-color: #434B5C;\n",
              "      box-shadow: 0px 1px 3px 1px rgba(0, 0, 0, 0.15);\n",
              "      filter: drop-shadow(0px 1px 2px rgba(0, 0, 0, 0.3));\n",
              "      fill: #FFFFFF;\n",
              "    }\n",
              "  </style>\n",
              "\n",
              "      <script>\n",
              "        const buttonEl =\n",
              "          document.querySelector('#df-3434c6c9-ffa9-4358-b53d-8b2aa218a4bd button.colab-df-convert');\n",
              "        buttonEl.style.display =\n",
              "          google.colab.kernel.accessAllowed ? 'block' : 'none';\n",
              "\n",
              "        async function convertToInteractive(key) {\n",
              "          const element = document.querySelector('#df-3434c6c9-ffa9-4358-b53d-8b2aa218a4bd');\n",
              "          const dataTable =\n",
              "            await google.colab.kernel.invokeFunction('convertToInteractive',\n",
              "                                                     [key], {});\n",
              "          if (!dataTable) return;\n",
              "\n",
              "          const docLinkHtml = 'Like what you see? Visit the ' +\n",
              "            '<a target=\"_blank\" href=https://colab.research.google.com/notebooks/data_table.ipynb>data table notebook</a>'\n",
              "            + ' to learn more about interactive tables.';\n",
              "          element.innerHTML = '';\n",
              "          dataTable['output_type'] = 'display_data';\n",
              "          await google.colab.output.renderOutput(dataTable, element);\n",
              "          const docLink = document.createElement('div');\n",
              "          docLink.innerHTML = docLinkHtml;\n",
              "          element.appendChild(docLink);\n",
              "        }\n",
              "      </script>\n",
              "    </div>\n",
              "  </div>\n",
              "  "
            ]
          },
          "metadata": {},
          "execution_count": 4
        }
      ]
    },
    {
      "cell_type": "markdown",
      "source": [
        ""
      ],
      "metadata": {
        "id": "EZDH8kvoOyzm"
      }
    },
    {
      "cell_type": "markdown",
      "source": [
        "# **MAKE SAFE MODE TO LIBSVM SPARK FORMAT**"
      ],
      "metadata": {
        "id": "KXW1-L-iO2U8"
      }
    },
    {
      "cell_type": "code",
      "source": [
        "\n",
        "Data = df.to_numpy()\n",
        "\n",
        "with open(\"temp.txt\",'w') as f:\n",
        "     for i in range(Data.shape[0]):\n",
        "         txt = \"\"\n",
        "         for j in range(Data.shape[1]):\n",
        "            if j==0: # is for label\n",
        "                d = Data[i][j].decode(\"utf-8\")\n",
        "                txt+= str(d)+ \" \"\n",
        "            else:\n",
        "                d = str(Data[i][j])\n",
        "                txt+= str(j) + \":\" + d + \" \"\n",
        "\n",
        "\n",
        "         f.writelines(txt)\n",
        "         f.writelines(\"\\n\")\n"
      ],
      "metadata": {
        "id": "sV1cu_7uO4Pu"
      },
      "execution_count": null,
      "outputs": []
    },
    {
      "cell_type": "markdown",
      "source": [
        "# **LOAD DATA AND NORMALIZ**"
      ],
      "metadata": {
        "id": "Su3l-GpFOa4v"
      }
    },
    {
      "cell_type": "code",
      "source": [
        "# Loads data.\n",
        "\n",
        "dataset =  spark.read.format(\"libsvm\").load(\"temp.txt\")\n",
        "normalizer = Normalizer(inputCol=\"features\", outputCol=\"normFeatures\", p=1.0)\n",
        "l1NormData = normalizer.transform(dataset)\n",
        "train, test = dataset.randomSplit(weights=[0.9,0.1], seed=200)\n"
      ],
      "metadata": {
        "id": "sp4A8XpGgRZV"
      },
      "execution_count": null,
      "outputs": []
    },
    {
      "cell_type": "markdown",
      "source": [
        "# **train and test**"
      ],
      "metadata": {
        "id": "KLAeLVbQOLbc"
      }
    },
    {
      "cell_type": "code",
      "source": [
        "# Trains a k-means model.\n",
        "kmeans = KMeans().setK(3).setSeed(1)\n",
        "model = kmeans.fit(train)\n",
        "\n",
        "# Make predictions\n",
        "predictions = model.transform(train)\n",
        "\n",
        "# Evaluate clustering by computing Silhouette score\n",
        "evaluator = ClusteringEvaluator()\n",
        "\n",
        "silhouette = evaluator.evaluate(predictions)\n",
        "print(\"Train squared euclidean distance = \" + str(silhouette))\n",
        "print(\"===================================\")\n",
        "## test evaluator\n",
        "# Make predictions\n",
        "predictions_test = model.transform(test)\n",
        "silhouette_test  = evaluator.evaluate(predictions_test)\n",
        "print(\"Test squared euclidean distance = \" + str(silhouette_test))\n",
        "\n",
        "# Shows the result.\n",
        "centers = model.clusterCenters()\n",
        "print(\"===================================\")\n",
        "print(\"Cluster Centers: \")\n",
        "for center in centers:\n",
        "    print(center)"
      ],
      "metadata": {
        "colab": {
          "base_uri": "https://localhost:8080/"
        },
        "outputId": "0c50565b-7de6-42a6-bd9e-919008f0ce5e",
        "id": "vJbTuJcEOSet"
      },
      "execution_count": null,
      "outputs": [
        {
          "output_type": "stream",
          "name": "stdout",
          "text": [
            "Train squared euclidean distance = 0.7318886250112395\n",
            "===================================\n",
            "Test squared euclidean distance = 0.7731550466845423\n",
            "===================================\n",
            "Cluster Centers: \n",
            "[1.25257143e+01 2.54365079e+00 2.29365079e+00 2.08142857e+01\n",
            " 9.28730159e+01 2.08634921e+00 1.76714286e+00 3.87460317e-01\n",
            " 1.46460317e+00 4.11079363e+00 9.42857143e-01 2.47539683e+00\n",
            " 4.57222222e+02]\n",
            "[1.37934884e+01 1.88883721e+00 2.42372093e+00 1.69581395e+01\n",
            " 1.05395349e+02 2.86348837e+00 3.00441860e+00 2.89069767e-01\n",
            " 1.87674419e+00 5.66674419e+00 1.07348837e+00 3.11488372e+00\n",
            " 1.18202326e+03]\n",
            "[1.29477966e+01 2.52237288e+00 2.41966102e+00 1.99101695e+01\n",
            " 1.03694915e+02 2.09237288e+00 1.58203390e+00 3.93050847e-01\n",
            " 1.51457627e+00 5.72762712e+00 8.74338983e-01 2.35169492e+00\n",
            " 7.26796610e+02]\n"
          ]
        }
      ]
    },
    {
      "cell_type": "markdown",
      "source": [
        "## plot data in matplotlib\n"
      ],
      "metadata": {
        "id": "0IZKv3OXjk1K"
      }
    },
    {
      "cell_type": "code",
      "source": [
        "def plot_cluster(cluster, color, data_pd):\n",
        "    data = data_pd[data_pd.label == cluster]\n",
        "    dates = [x for x in data.features]\n",
        "    for i in range(len(dates)):\n",
        "        plt.scatter(dates[i][0],dates[i][1],color=color)"
      ],
      "metadata": {
        "id": "bFHNdMn-ZM9r"
      },
      "execution_count": null,
      "outputs": []
    },
    {
      "cell_type": "markdown",
      "source": [
        "## matplot"
      ],
      "metadata": {
        "id": "pyBKhbXTklSG"
      }
    },
    {
      "cell_type": "code",
      "source": [
        "import matplotlib.pyplot as plt\n",
        "data_pd = train.toPandas()\n",
        "ax = plt.gca()\n",
        "plt.xticks(rotation=25)\n",
        "clusters = [1, 2, 3]\n",
        "colors = [\"green\", \"blue\", \"red\"]\n",
        "for cluster, color in zip(clusters, colors):\n",
        "    plot_cluster(cluster, color, data_pd)\n",
        "\n",
        "\n",
        "plt.xlabel(\"date\")\n",
        "plt.ylabel(\"count\")\n",
        "plt.tight_layout()\n",
        "plt.show()\n"
      ],
      "metadata": {
        "colab": {
          "base_uri": "https://localhost:8080/",
          "height": 297
        },
        "id": "_G3pNmacWY6L",
        "outputId": "9df3e25e-3b8e-4376-f5aa-cb74b65df04b"
      },
      "execution_count": null,
      "outputs": [
        {
          "output_type": "display_data",
          "data": {
            "text/plain": [
              "<Figure size 432x288 with 1 Axes>"
            ],
            "image/png": "[encoded data removed]"
          },
          "metadata": {
            "needs_background": "light"
          }
        }
      ]
    },
    {
      "cell_type": "markdown",
      "source": [
        "## PLOTY PLOT"
      ],
      "metadata": {
        "id": "Qw4ZMKrukuRu"
      }
    },
    {
      "cell_type": "code",
      "source": [
        "import plotly.express as px\n",
        "import pandas as pd"
      ],
      "metadata": {
        "id": "o1X5lj0JkuAi"
      },
      "execution_count": null,
      "outputs": []
    },
    {
      "cell_type": "code",
      "source": [
        "from numpy.ma.core import append\n",
        "data = data_pd[data_pd.label == 1]\n",
        "dates = [x for x in data_pd.features]\n",
        "df = pd.DataFrame(dict(\n",
        "    x = [dates[i][0] for i in range(len(dates))],\n",
        "    y = [dates[i][1] for i in range(len(dates))],\n",
        "    label = [\"class1\" if i==1 else \"class2\" if i==2 else \"class3\"  for i in data_pd.label],\n",
        "))\n",
        "fig = px.scatter(df, x=\"x\", y=\"y\" ,color = \"label\")\n",
        "fig.show()"
      ],
      "metadata": {
        "colab": {
          "base_uri": "https://localhost:8080/",
          "height": 542
        },
        "id": "OrQbrgHik0Ue",
        "outputId": "4fd873da-abbb-4fbe-d053-91c024b500c0"
      },
      "execution_count": null,
      "outputs": [
        {
          "output_type": "display_data",
          "data": {
            "text/html": [
              "<html>\n",
              "<head><meta charset=\"utf-8\" /></head>\n",
              "<body>\n",
              "    <div>            <script src=\"https://cdnjs.cloudflare.com/ajax/libs/mathjax/2.7.5/MathJax.js?config=TeX-AMS-MML_SVG\"></script><script type=\"text/javascript\">if (window.MathJax) {MathJax.Hub.Config({SVG: {font: \"STIX-Web\"}});}</script>                <script type=\"text/javascript\">window.PlotlyConfig = {MathJaxConfig: 'local'};</script>\n",
              "        <script src=\"https://cdn.plot.ly/plotly-2.8.3.min.js\"></script>                <div id=\"06e2b974-bd76-4868-b1bf-6c9f08e9bb50\" class=\"plotly-graph-div\" style=\"height:525px; width:100%;\"></div>            <script type=\"text/javascript\">                                    window.PLOTLYENV=window.PLOTLYENV || {};                                    if (document.getElementById(\"06e2b974-bd76-4868-b1bf-6c9f08e9bb50\")) {                    Plotly.newPlot(                        \"06e2b974-bd76-4868-b1bf-6c9f08e9bb50\",                        [{\"hovertemplate\":\"label=class1<br>x=%{x}<br>y=%{y}<extra></extra>\",\"legendgroup\":\"class1\",\"marker\":{\"color\":\"#636efa\",\"symbol\":\"circle\"},\"mode\":\"markers\",\"name\":\"class1\",\"orientation\":\"v\",\"showlegend\":true,\"x\":[12.85,12.93,13.05,13.05,13.05,13.05,13.07,13.16,13.2,13.24,13.24,13.28,13.29,13.3,13.39,13.41,13.48,13.5,13.51,13.56,13.58,13.63,13.64,13.68,13.71,13.72,13.73,13.74,13.75,13.76,13.77,13.82,13.83,13.86,13.87,13.88,13.9,13.94,14.02,14.06,14.06,14.1,14.12,14.19,14.21,14.22,14.22,14.23,14.3,14.37,14.38,14.38,14.39,14.75,14.83],\"xaxis\":\"x\",\"y\":[1.6,3.8,1.65,1.73,1.77,2.05,1.5,2.36,1.78,2.59,3.98,1.64,1.97,1.72,1.77,3.84,1.81,1.81,1.8,1.71,1.66,1.81,3.1,1.83,1.86,1.43,1.5,1.67,1.73,1.53,1.9,1.75,1.57,1.35,1.9,1.89,1.68,1.73,1.68,1.63,2.15,2.02,1.48,1.59,4.04,1.7,3.99,1.71,1.92,1.95,1.87,3.59,1.87,1.73,1.64],\"yaxis\":\"y\",\"type\":\"scatter\"},{\"hovertemplate\":\"label=class2<br>x=%{x}<br>y=%{y}<extra></extra>\",\"legendgroup\":\"class2\",\"marker\":{\"color\":\"#EF553B\",\"symbol\":\"circle\"},\"mode\":\"markers\",\"name\":\"class2\",\"orientation\":\"v\",\"showlegend\":true,\"x\":[11.03,11.45,11.46,11.56,11.61,11.62,11.64,11.65,11.66,11.76,11.79,11.81,11.82,11.82,11.84,11.84,11.87,12.0,12.0,12.0,12.04,12.07,12.08,12.08,12.08,12.08,12.16,12.17,12.21,12.22,12.29,12.29,12.29,12.29,12.33,12.33,12.34,12.37,12.37,12.37,12.37,12.37,12.37,12.42,12.42,12.43,12.47,12.51,12.52,12.64,12.67,12.69,12.7,12.72,12.72,12.77,12.99,13.03,13.05,13.05,13.11,13.34,13.67,13.86],\"xaxis\":\"x\",\"y\":[1.51,2.4,3.74,2.05,1.35,1.99,2.06,1.67,1.88,2.68,2.13,2.12,1.47,1.72,0.89,2.89,4.31,0.92,1.51,3.43,4.3,2.16,1.13,1.33,1.39,1.83,1.61,1.45,1.19,1.29,1.41,1.61,2.83,3.17,0.99,1.1,2.45,0.94,1.07,1.13,1.17,1.21,1.63,1.61,4.43,1.53,1.52,1.73,2.43,1.36,0.98,1.53,3.87,1.75,1.81,3.43,1.67,0.9,3.86,5.8,1.01,0.94,1.25,1.51],\"yaxis\":\"y\",\"type\":\"scatter\"},{\"hovertemplate\":\"label=class3<br>x=%{x}<br>y=%{y}<extra></extra>\",\"legendgroup\":\"class3\",\"marker\":{\"color\":\"#00cc96\",\"symbol\":\"circle\"},\"mode\":\"markers\",\"name\":\"class3\",\"orientation\":\"v\",\"showlegend\":true,\"x\":[12.2,12.25,12.25,12.45,12.51,12.53,12.58,12.6,12.7,12.77,12.79,12.81,12.82,12.84,12.85,12.86,12.87,12.88,12.93,12.96,13.08,13.11,13.16,13.17,13.17,13.23,13.27,13.32,13.36,13.4,13.4,13.45,13.48,13.49,13.5,13.52,13.58,13.62,13.71,13.73,13.78,13.84,13.88,14.13,14.16,14.34],\"xaxis\":\"x\",\"y\":[3.03,3.88,4.72,3.03,1.24,5.51,1.29,2.46,3.55,2.39,2.67,2.31,3.37,2.96,3.27,1.35,4.61,2.99,2.81,3.45,3.9,1.9,3.57,2.59,5.19,3.3,4.28,3.24,2.56,3.91,4.6,3.7,1.67,3.59,3.12,3.17,2.58,4.95,5.65,4.36,2.76,4.12,5.04,4.1,2.51,1.68],\"yaxis\":\"y\",\"type\":\"scatter\"}],                        {\"template\":{\"data\":{\"bar\":[{\"error_x\":{\"color\":\"#2a3f5f\"},\"error_y\":{\"color\":\"#2a3f5f\"},\"marker\":{\"line\":{\"color\":\"#E5ECF6\",\"width\":0.5},\"pattern\":{\"fillmode\":\"overlay\",\"size\":10,\"solidity\":0.2}},\"type\":\"bar\"}],\"barpolar\":[{\"marker\":{\"line\":{\"color\":\"#E5ECF6\",\"width\":0.5},\"pattern\":{\"fillmode\":\"overlay\",\"size\":10,\"solidity\":0.2}},\"type\":\"barpolar\"}],\"carpet\":[{\"aaxis\":{\"endlinecolor\":\"#2a3f5f\",\"gridcolor\":\"white\",\"linecolor\":\"white\",\"minorgridcolor\":\"white\",\"startlinecolor\":\"#2a3f5f\"},\"baxis\":{\"endlinecolor\":\"#2a3f5f\",\"gridcolor\":\"white\",\"linecolor\":\"white\",\"minorgridcolor\":\"white\",\"startlinecolor\":\"#2a3f5f\"},\"type\":\"carpet\"}],\"choropleth\":[{\"colorbar\":{\"outlinewidth\":0,\"ticks\":\"\"},\"type\":\"choropleth\"}],\"contour\":[{\"colorbar\":{\"outlinewidth\":0,\"ticks\":\"\"},\"colorscale\":[[0.0,\"#0d0887\"],[0.1111111111111111,\"#46039f\"],[0.2222222222222222,\"#7201a8\"],[0.3333333333333333,\"#9c179e\"],[0.4444444444444444,\"#bd3786\"],[0.5555555555555556,\"#d8576b\"],[0.6666666666666666,\"#ed7953\"],[0.7777777777777778,\"#fb9f3a\"],[0.8888888888888888,\"#fdca26\"],[1.0,\"#f0f921\"]],\"type\":\"contour\"}],\"contourcarpet\":[{\"colorbar\":{\"outlinewidth\":0,\"ticks\":\"\"},\"type\":\"contourcarpet\"}],\"heatmap\":[{\"colorbar\":{\"outlinewidth\":0,\"ticks\":\"\"},\"colorscale\":[[0.0,\"#0d0887\"],[0.1111111111111111,\"#46039f\"],[0.2222222222222222,\"#7201a8\"],[0.3333333333333333,\"#9c179e\"],[0.4444444444444444,\"#bd3786\"],[0.5555555555555556,\"#d8576b\"],[0.6666666666666666,\"#ed7953\"],[0.7777777777777778,\"#fb9f3a\"],[0.8888888888888888,\"#fdca26\"],[1.0,\"#f0f921\"]],\"type\":\"heatmap\"}],\"heatmapgl\":[{\"colorbar\":{\"outlinewidth\":0,\"ticks\":\"\"},\"colorscale\":[[0.0,\"#0d0887\"],[0.1111111111111111,\"#46039f\"],[0.2222222222222222,\"#7201a8\"],[0.3333333333333333,\"#9c179e\"],[0.4444444444444444,\"#bd3786\"],[0.5555555555555556,\"#d8576b\"],[0.6666666666666666,\"#ed7953\"],[0.7777777777777778,\"#fb9f3a\"],[0.8888888888888888,\"#fdca26\"],[1.0,\"#f0f921\"]],\"type\":\"heatmapgl\"}],\"histogram\":[{\"marker\":{\"pattern\":{\"fillmode\":\"overlay\",\"size\":10,\"solidity\":0.2}},\"type\":\"histogram\"}],\"histogram2d\":[{\"colorbar\":{\"outlinewidth\":0,\"ticks\":\"\"},\"colorscale\":[[0.0,\"#0d0887\"],[0.1111111111111111,\"#46039f\"],[0.2222222222222222,\"#7201a8\"],[0.3333333333333333,\"#9c179e\"],[0.4444444444444444,\"#bd3786\"],[0.5555555555555556,\"#d8576b\"],[0.6666666666666666,\"#ed7953\"],[0.7777777777777778,\"#fb9f3a\"],[0.8888888888888888,\"#fdca26\"],[1.0,\"#f0f921\"]],\"type\":\"histogram2d\"}],\"histogram2dcontour\":[{\"colorbar\":{\"outlinewidth\":0,\"ticks\":\"\"},\"colorscale\":[[0.0,\"#0d0887\"],[0.1111111111111111,\"#46039f\"],[0.2222222222222222,\"#7201a8\"],[0.3333333333333333,\"#9c179e\"],[0.4444444444444444,\"#bd3786\"],[0.5555555555555556,\"#d8576b\"],[0.6666666666666666,\"#ed7953\"],[0.7777777777777778,\"#fb9f3a\"],[0.8888888888888888,\"#fdca26\"],[1.0,\"#f0f921\"]],\"type\":\"histogram2dcontour\"}],\"mesh3d\":[{\"colorbar\":{\"outlinewidth\":0,\"ticks\":\"\"},\"type\":\"mesh3d\"}],\"parcoords\":[{\"line\":{\"colorbar\":{\"outlinewidth\":0,\"ticks\":\"\"}},\"type\":\"parcoords\"}],\"pie\":[{\"automargin\":true,\"type\":\"pie\"}],\"scatter\":[{\"marker\":{\"colorbar\":{\"outlinewidth\":0,\"ticks\":\"\"}},\"type\":\"scatter\"}],\"scatter3d\":[{\"line\":{\"colorbar\":{\"outlinewidth\":0,\"ticks\":\"\"}},\"marker\":{\"colorbar\":{\"outlinewidth\":0,\"ticks\":\"\"}},\"type\":\"scatter3d\"}],\"scattercarpet\":[{\"marker\":{\"colorbar\":{\"outlinewidth\":0,\"ticks\":\"\"}},\"type\":\"scattercarpet\"}],\"scattergeo\":[{\"marker\":{\"colorbar\":{\"outlinewidth\":0,\"ticks\":\"\"}},\"type\":\"scattergeo\"}],\"scattergl\":[{\"marker\":{\"colorbar\":{\"outlinewidth\":0,\"ticks\":\"\"}},\"type\":\"scattergl\"}],\"scattermapbox\":[{\"marker\":{\"colorbar\":{\"outlinewidth\":0,\"ticks\":\"\"}},\"type\":\"scattermapbox\"}],\"scatterpolar\":[{\"marker\":{\"colorbar\":{\"outlinewidth\":0,\"ticks\":\"\"}},\"type\":\"scatterpolar\"}],\"scatterpolargl\":[{\"marker\":{\"colorbar\":{\"outlinewidth\":0,\"ticks\":\"\"}},\"type\":\"scatterpolargl\"}],\"scatterternary\":[{\"marker\":{\"colorbar\":{\"outlinewidth\":0,\"ticks\":\"\"}},\"type\":\"scatterternary\"}],\"surface\":[{\"colorbar\":{\"outlinewidth\":0,\"ticks\":\"\"},\"colorscale\":[[0.0,\"#0d0887\"],[0.1111111111111111,\"#46039f\"],[0.2222222222222222,\"#7201a8\"],[0.3333333333333333,\"#9c179e\"],[0.4444444444444444,\"#bd3786\"],[0.5555555555555556,\"#d8576b\"],[0.6666666666666666,\"#ed7953\"],[0.7777777777777778,\"#fb9f3a\"],[0.8888888888888888,\"#fdca26\"],[1.0,\"#f0f921\"]],\"type\":\"surface\"}],\"table\":[{\"cells\":{\"fill\":{\"color\":\"#EBF0F8\"},\"line\":{\"color\":\"white\"}},\"header\":{\"fill\":{\"color\":\"#C8D4E3\"},\"line\":{\"color\":\"white\"}},\"type\":\"table\"}]},\"layout\":{\"annotationdefaults\":{\"arrowcolor\":\"#2a3f5f\",\"arrowhead\":0,\"arrowwidth\":1},\"autotypenumbers\":\"strict\",\"coloraxis\":{\"colorbar\":{\"outlinewidth\":0,\"ticks\":\"\"}},\"colorscale\":{\"diverging\":[[0,\"#8e0152\"],[0.1,\"#c51b7d\"],[0.2,\"#de77ae\"],[0.3,\"#f1b6da\"],[0.4,\"#fde0ef\"],[0.5,\"#f7f7f7\"],[0.6,\"#e6f5d0\"],[0.7,\"#b8e186\"],[0.8,\"#7fbc41\"],[0.9,\"#4d9221\"],[1,\"#276419\"]],\"sequential\":[[0.0,\"#0d0887\"],[0.1111111111111111,\"#46039f\"],[0.2222222222222222,\"#7201a8\"],[0.3333333333333333,\"#9c179e\"],[0.4444444444444444,\"#bd3786\"],[0.5555555555555556,\"#d8576b\"],[0.6666666666666666,\"#ed7953\"],[0.7777777777777778,\"#fb9f3a\"],[0.8888888888888888,\"#fdca26\"],[1.0,\"#f0f921\"]],\"sequentialminus\":[[0.0,\"#0d0887\"],[0.1111111111111111,\"#46039f\"],[0.2222222222222222,\"#7201a8\"],[0.3333333333333333,\"#9c179e\"],[0.4444444444444444,\"#bd3786\"],[0.5555555555555556,\"#d8576b\"],[0.6666666666666666,\"#ed7953\"],[0.7777777777777778,\"#fb9f3a\"],[0.8888888888888888,\"#fdca26\"],[1.0,\"#f0f921\"]]},\"colorway\":[\"#636efa\",\"#EF553B\",\"#00cc96\",\"#ab63fa\",\"#FFA15A\",\"#19d3f3\",\"#FF6692\",\"#B6E880\",\"#FF97FF\",\"#FECB52\"],\"font\":{\"color\":\"#2a3f5f\"},\"geo\":{\"bgcolor\":\"white\",\"lakecolor\":\"white\",\"landcolor\":\"#E5ECF6\",\"showlakes\":true,\"showland\":true,\"subunitcolor\":\"white\"},\"hoverlabel\":{\"align\":\"left\"},\"hovermode\":\"closest\",\"mapbox\":{\"style\":\"light\"},\"paper_bgcolor\":\"white\",\"plot_bgcolor\":\"#E5ECF6\",\"polar\":{\"angularaxis\":{\"gridcolor\":\"white\",\"linecolor\":\"white\",\"ticks\":\"\"},\"bgcolor\":\"#E5ECF6\",\"radialaxis\":{\"gridcolor\":\"white\",\"linecolor\":\"white\",\"ticks\":\"\"}},\"scene\":{\"xaxis\":{\"backgroundcolor\":\"#E5ECF6\",\"gridcolor\":\"white\",\"gridwidth\":2,\"linecolor\":\"white\",\"showbackground\":true,\"ticks\":\"\",\"zerolinecolor\":\"white\"},\"yaxis\":{\"backgroundcolor\":\"#E5ECF6\",\"gridcolor\":\"white\",\"gridwidth\":2,\"linecolor\":\"white\",\"showbackground\":true,\"ticks\":\"\",\"zerolinecolor\":\"white\"},\"zaxis\":{\"backgroundcolor\":\"#E5ECF6\",\"gridcolor\":\"white\",\"gridwidth\":2,\"linecolor\":\"white\",\"showbackground\":true,\"ticks\":\"\",\"zerolinecolor\":\"white\"}},\"shapedefaults\":{\"line\":{\"color\":\"#2a3f5f\"}},\"ternary\":{\"aaxis\":{\"gridcolor\":\"white\",\"linecolor\":\"white\",\"ticks\":\"\"},\"baxis\":{\"gridcolor\":\"white\",\"linecolor\":\"white\",\"ticks\":\"\"},\"bgcolor\":\"#E5ECF6\",\"caxis\":{\"gridcolor\":\"white\",\"linecolor\":\"white\",\"ticks\":\"\"}},\"title\":{\"x\":0.05},\"xaxis\":{\"automargin\":true,\"gridcolor\":\"white\",\"linecolor\":\"white\",\"ticks\":\"\",\"title\":{\"standoff\":15},\"zerolinecolor\":\"white\",\"zerolinewidth\":2},\"yaxis\":{\"automargin\":true,\"gridcolor\":\"white\",\"linecolor\":\"white\",\"ticks\":\"\",\"title\":{\"standoff\":15},\"zerolinecolor\":\"white\",\"zerolinewidth\":2}}},\"xaxis\":{\"anchor\":\"y\",\"domain\":[0.0,1.0],\"title\":{\"text\":\"x\"}},\"yaxis\":{\"anchor\":\"x\",\"domain\":[0.0,1.0],\"title\":{\"text\":\"y\"}},\"legend\":{\"title\":{\"text\":\"label\"},\"tracegroupgap\":0},\"margin\":{\"t\":60}},                        {\"responsive\": true}                    ).then(function(){\n",
              "                            \n",
              "var gd = document.getElementById('06e2b974-bd76-4868-b1bf-6c9f08e9bb50');\n",
              "var x = new MutationObserver(function (mutations, observer) {{\n",
              "        var display = window.getComputedStyle(gd).display;\n",
              "        if (!display || display === 'none') {{\n",
              "            console.log([gd, 'removed!']);\n",
              "            Plotly.purge(gd);\n",
              "            observer.disconnect();\n",
              "        }}\n",
              "}});\n",
              "\n",
              "// Listen for the removal of the full notebook cells\n",
              "var notebookContainer = gd.closest('#notebook-container');\n",
              "if (notebookContainer) {{\n",
              "    x.observe(notebookContainer, {childList: true});\n",
              "}}\n",
              "\n",
              "// Listen for the clearing of the current output cell\n",
              "var outputEl = gd.closest('.output');\n",
              "if (outputEl) {{\n",
              "    x.observe(outputEl, {childList: true});\n",
              "}}\n",
              "\n",
              "                        })                };                            </script>        </div>\n",
              "</body>\n",
              "</html>"
            ]
          },
          "metadata": {}
        }
      ]
    },
    {
      "cell_type": "code",
      "source": [
        "train.show(2)"
      ],
      "metadata": {
        "colab": {
          "base_uri": "https://localhost:8080/"
        },
        "id": "XJkLUlFCJtaM",
        "outputId": "7ca846c2-15d1-47a3-a1c6-c8661385153e"
      },
      "execution_count": null,
      "outputs": [
        {
          "output_type": "stream",
          "name": "stdout",
          "text": [
            "+-----+--------------------+\n",
            "|label|            features|\n",
            "+-----+--------------------+\n",
            "|  1.0|(13,[0,1,2,3,4,5,...|\n",
            "|  1.0|(13,[0,1,2,3,4,5,...|\n",
            "+-----+--------------------+\n",
            "only showing top 2 rows\n",
            "\n"
          ]
        }
      ]
    },
    {
      "cell_type": "markdown",
      "source": [
        "## Train again with diffrent num of cluster and evaluate data"
      ],
      "metadata": {
        "id": "TqHWpdlfJGwY"
      }
    },
    {
      "cell_type": "code",
      "source": [
        "silhouette_score_train=[]\n",
        "silhouette_score_test=[]\n",
        "evaluator = ClusteringEvaluator(predictionCol='prediction', featuresCol='features', metricName='silhouette', distanceMeasure='squaredEuclidean')\n",
        "for i in range(2,10):\n",
        "    \n",
        "    KMeans_algo=KMeans(featuresCol='features', k=i)\n",
        "    \n",
        "    KMeans_fit=KMeans_algo.fit(train)\n",
        "    \n",
        "    output=KMeans_fit.transform(train)\n",
        "    \n",
        "    score=evaluator.evaluate(output)\n",
        "    \n",
        "    silhouette_score_train.append(score)\n",
        "\n",
        "    output_test=KMeans_fit.transform(test)\n",
        "    \n",
        "    score_test=evaluator.evaluate(output_test)\n",
        "\n",
        "    silhouette_score_test.append(score_test)\n",
        "    \n",
        "    print(\"Silhouette Score (RMSSTD) Train:\",score,\" Silhouette Score (RMSSTD) Test\",score_test)"
      ],
      "metadata": {
        "colab": {
          "base_uri": "https://localhost:8080/"
        },
        "id": "_ifzG4ZMJL5I",
        "outputId": "3fe9d3bf-2bfd-41da-a26b-63ff4e71264f"
      },
      "execution_count": null,
      "outputs": [
        {
          "output_type": "stream",
          "name": "stdout",
          "text": [
            "Silhouette Score (RMSSTD) Train: 0.8193295862137379  Silhouette Score (RMSSTD) Test 0.8070475188166922\n",
            "Silhouette Score (RMSSTD) Train: 0.726165960526605  Silhouette Score (RMSSTD) Test 0.5102110918340272\n",
            "Silhouette Score (RMSSTD) Train: 0.7302698889022473  Silhouette Score (RMSSTD) Test 0.6245555117711683\n",
            "Silhouette Score (RMSSTD) Train: 0.731396716079556  Silhouette Score (RMSSTD) Test 0.6020561326340114\n",
            "Silhouette Score (RMSSTD) Train: 0.7218857935981309  Silhouette Score (RMSSTD) Test 0.3666006757705994\n",
            "Silhouette Score (RMSSTD) Train: 0.7044837672686792  Silhouette Score (RMSSTD) Test 0.5070225907870137\n",
            "Silhouette Score (RMSSTD) Train: 0.7317831307794558  Silhouette Score (RMSSTD) Test 0.4086236620399863\n",
            "Silhouette Score (RMSSTD) Train: 0.6935643130133582  Silhouette Score (RMSSTD) Test 0.30014950581150357\n"
          ]
        }
      ]
    },
    {
      "cell_type": "code",
      "source": [
        "#Visualizing the silhouette scores in a plot\n",
        "import matplotlib.pyplot as plt\n",
        "fig, ax = plt.subplots(1,1, figsize =(8,6))\n",
        "ax.set_title('Test and Train RMSSTD Plot')\n",
        "ax.plot(range(2,10),silhouette_score_train)\n",
        "ax.set_xlabel('k')\n",
        "ax.set_ylabel('cost Train')\n",
        "\n",
        "ax.plot(range(2,10),silhouette_score_test)\n",
        "ax.set_xlabel('k')\n",
        "ax.set_ylabel('cost Train')\n",
        "\n",
        "ax.legend(['Train', 'test'])"
      ],
      "metadata": {
        "colab": {
          "base_uri": "https://localhost:8080/",
          "height": 421
        },
        "id": "caojBDSQKUmw",
        "outputId": "cd276288-2e1f-46f3-c166-2e12ee890c3a"
      },
      "execution_count": null,
      "outputs": [
        {
          "output_type": "execute_result",
          "data": {
            "text/plain": [
              "<matplotlib.legend.Legend at 0x7fd42258e390>"
            ]
          },
          "metadata": {},
          "execution_count": 80
        },
        {
          "output_type": "display_data",
          "data": {
            "text/plain": [
              "<Figure size 576x432 with 1 Axes>"
            ],
            "image/png": "[encoded data removed]"
          },
          "metadata": {
            "needs_background": "light"
          }
        }
      ]
    }
  ]
}